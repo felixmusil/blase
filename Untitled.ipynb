{
 "cells": [
  {
   "cell_type": "code",
   "execution_count": null,
   "id": "british-pakistan",
   "metadata": {},
   "outputs": [],
   "source": [
    "import bpy"
   ]
  },
  {
   "cell_type": "code",
   "execution_count": null,
   "id": "selective-auditor",
   "metadata": {},
   "outputs": [],
   "source": [
    "import sys\n",
    "sys.path.insert(0,'/home/felix/git/test/blase/')\n",
    "\n",
    "from ase.build import molecule\n",
    "from ase.visualize import view\n",
    "from blase.tools import get_bondpairs, write_blender\n",
    "\n",
    "from ase.io import read\n",
    "from ase.io.cube import read_cube_data\n",
    "from blase.bio import Blase\n",
    "from blase.btools import draw_cell, draw_atoms, draw_bonds, draw_polyhedras, draw_isosurface, bond_source, cylinder_mesh_from_instance, clean_default\n",
    "import pickle\n",
    "import argparse\n",
    "import numpy as np\n",
    "from ase.build.supercells import make_supercell\n",
    "from IPython.display import Image"
   ]
  },
  {
   "cell_type": "code",
   "execution_count": null,
   "id": "natural-fetish",
   "metadata": {},
   "outputs": [],
   "source": [
    "frames = read('../../blase/carbon/Carbon_Data_Set_Total.xyz',':')"
   ]
  },
  {
   "cell_type": "code",
   "execution_count": null,
   "id": "biblical-parts",
   "metadata": {},
   "outputs": [],
   "source": [
    "view(frames)"
   ]
  },
  {
   "cell_type": "code",
   "execution_count": null,
   "id": "external-enhancement",
   "metadata": {},
   "outputs": [],
   "source": [
    "ids = [6,36,1547,6433,7990,10824,16235,16259]\n",
    "frames = [frames[idx] for idx in ids]\n",
    "# view(frames)"
   ]
  },
  {
   "cell_type": "code",
   "execution_count": null,
   "id": "conventional-warren",
   "metadata": {},
   "outputs": [],
   "source": [
    "bpy.ops.wm.read_factory_settings(use_empty=True)"
   ]
  },
  {
   "cell_type": "code",
   "execution_count": null,
   "id": "afraid-detroit",
   "metadata": {},
   "outputs": [],
   "source": [
    "atoms = frames[3]\n",
    "\n",
    "supat = make_supercell(atoms, np.diag([2,2,5]), wrap=True, tol=1e-5)\n",
    "# view(supat)\n",
    "com = supat.get_center_of_mass()\n",
    "camera_loc = com + [-20,-50, 30]\n",
    "camera_target = com+[-1.5,0, 10]\n",
    "kwargs = {'show_unit_cell': 0,\n",
    "          'engine': 'CYCLES',# 'CYCLES', #'BLENDER_EEVEE' #'BLENDER_WORKBENCH'\n",
    "          'camera_loc': camera_loc,  # distance from camera to front atom\n",
    "          'camera_type': 'PERSP',  #  ['PERSP', 'ORTHO', 'PANO']\n",
    "          'camera_lens': 100,  #\n",
    "          'camera_target': camera_target, #\n",
    "          'ortho_scale': None, #\n",
    "          'radii': 1,\n",
    "          'bond_cutoff': 1.0,\n",
    "          'light_loc': com + [-20, -40, 0],\n",
    "          'light_type': 'SUN', # 'POINT', 'SUN', 'SPOT', 'AREA'\n",
    "          'point_lights': [],  #\n",
    "          'light_strength': 25,\n",
    "          'gpu': False,\n",
    "          'run_render': True,\n",
    "          'display': True,\n",
    "          'material_style':'ceramic', # ceramic, plastic, glass, blase, mirror\n",
    "          #'functions': [['draw_plane', {'size': 1000, \n",
    "          #                              'location': (0, 0, -1.0)}]],\n",
    "          'resolution_x': 2000,\n",
    "          'num_samples': 20,\n",
    "          'use_denoising': True,\n",
    "          # 'functions': [['draw_plane', {'size': 100, 'location': (0, 0, -0.0), 'color': (0.1, 0.1, 0.1, 1.0), 'material_style': 'mirror'}]],\n",
    "          'outfile': './carbon/nanotube.png',\n",
    "}\n",
    "\n",
    "bobj = Blase(supat, **kwargs)\n",
    "\n",
    "bobj.draw(bonds=False)\n",
    "for function in bobj.functions:\n",
    "    name, paras = function\n",
    "    getattr(bobj, name)(**paras)\n",
    "bobj.render()\n",
    "Image('./carbon/nanotube.png')"
   ]
  },
  {
   "cell_type": "code",
   "execution_count": null,
   "id": "frozen-bundle",
   "metadata": {},
   "outputs": [],
   "source": [
    "bpy.ops.wm.read_factory_settings(use_empty=True)"
   ]
  },
  {
   "cell_type": "code",
   "execution_count": null,
   "id": "every-native",
   "metadata": {},
   "outputs": [],
   "source": [
    "view(frames[4])"
   ]
  },
  {
   "cell_type": "code",
   "execution_count": null,
   "id": "hidden-practitioner",
   "metadata": {
    "scrolled": true
   },
   "outputs": [],
   "source": [
    "atoms = frames[4]\n",
    "\n",
    "supat = make_supercell(atoms, np.diag([2,2,1]), wrap=True, tol=1e-5)\n",
    "# view(supat)\n",
    "com = supat.get_center_of_mass()\n",
    "camera_loc = com + [0,0, 52]\n",
    "camera_target = com+[0,0, 0]\n",
    "kwargs = {'show_unit_cell': 0,\n",
    "          'engine': 'CYCLES',# 'CYCLES', #'BLENDER_EEVEE' #'BLENDER_WORKBENCH'\n",
    "          'camera_loc': camera_loc,  # distance from camera to front atom\n",
    "          'camera_type': 'PERSP',  #  ['PERSP', 'ORTHO', 'PANO']\n",
    "          'camera_lens': 100,  #\n",
    "          'camera_target': camera_target, #\n",
    "          'ortho_scale': None, #\n",
    "          'radii': 1,\n",
    "          'bond_cutoff': 1.0,\n",
    "          'light_loc': com + [-10, -10, 10],\n",
    "          'light_type': 'SUN', # 'POINT', 'SUN', 'SPOT', 'AREA'\n",
    "          'point_lights': [],  #\n",
    "          'light_strength': 25,\n",
    "          'gpu': False,\n",
    "          'run_render': True,\n",
    "          'display': True,\n",
    "          'material_style':'ceramic', # ceramic, plastic, glass, blase, mirror\n",
    "          #'functions': [['draw_plane', {'size': 1000, \n",
    "          #                              'location': (0, 0, -1.0)}]],\n",
    "          'resolution_x': 2000,\n",
    "          'num_samples': 30,\n",
    "          'use_denoising': True,\n",
    "          # 'functions': [['draw_plane', {'size': 100, 'location': (0, 0, -0.0), 'color': (0.1, 0.1, 0.1, 1.0), 'material_style': 'mirror'}]],\n",
    "          'outfile': './carbon/graphene.png',\n",
    "}\n",
    "\n",
    "bobj = Blase(supat, **kwargs)\n",
    "\n",
    "bobj.draw(bonds=False)\n",
    "for function in bobj.functions:\n",
    "    name, paras = function\n",
    "    getattr(bobj, name)(**paras)\n",
    "bobj.render()\n",
    "Image('./carbon/graphene.png')"
   ]
  },
  {
   "cell_type": "code",
   "execution_count": null,
   "id": "traditional-individual",
   "metadata": {},
   "outputs": [],
   "source": [
    "bpy.ops.wm.read_factory_settings(use_empty=True)"
   ]
  },
  {
   "cell_type": "code",
   "execution_count": null,
   "id": "pressed-apparatus",
   "metadata": {},
   "outputs": [],
   "source": [
    "view(frames[-1])"
   ]
  },
  {
   "cell_type": "code",
   "execution_count": null,
   "id": "pointed-convenience",
   "metadata": {
    "scrolled": true
   },
   "outputs": [],
   "source": [
    "atoms = frames[-1]\n",
    "\n",
    "supat = make_supercell(atoms, np.diag([3,3,4]), wrap=True, tol=1e-5)\n",
    "# view(supat)\n",
    "com = supat.get_center_of_mass()\n",
    "camera_loc = com - [0,0, 30]\n",
    "camera_target = com+[-0,-0, 0]\n",
    "kwargs = {'show_unit_cell': 0,\n",
    "          'engine': 'CYCLES',# 'CYCLES', #'BLENDER_EEVEE' #'BLENDER_WORKBENCH'\n",
    "          'camera_loc': camera_loc,  # distance from camera to front atom\n",
    "          'camera_type': 'ORTHO',  #  ['PERSP', 'ORTHO', 'PANO']\n",
    "          'camera_lens': 100,  #\n",
    "          'camera_target': camera_target, #\n",
    "          'ortho_scale': None, #\n",
    "          'radii': 1.,\n",
    "          'bond_cutoff': 1.0,\n",
    "          'light_loc': com + [-5, -5, 20],\n",
    "          'light_type': 'SUN', # 'POINT', 'SUN', 'SPOT', 'AREA'\n",
    "          'point_lights': [],  #\n",
    "          'light_strength': 25,\n",
    "          'gpu': False,\n",
    "          'run_render': True,\n",
    "          'display': True,\n",
    "          'material_style':'ceramic', # ceramic, plastic, glass, blase, mirror\n",
    "          #'functions': [['draw_plane', {'size': 1000, \n",
    "          #                              'location': (0, 0, -1.0)}]],\n",
    "          'resolution_x': 2000,\n",
    "          'num_samples': 30,\n",
    "          'use_denoising': True,\n",
    "          # 'functions': [['draw_plane', {'size': 100, 'location': (0, 0, -0.0), 'color': (0.1, 0.1, 0.1, 1.0), 'material_style': 'mirror'}]],\n",
    "          'outfile': './carbon/bulk1.png',\n",
    "}\n",
    "\n",
    "bobj = Blase(supat, **kwargs)\n",
    "\n",
    "bobj.draw(bonds=False)\n",
    "for function in bobj.functions:\n",
    "    name, paras = function\n",
    "    getattr(bobj, name)(**paras)\n",
    "bobj.render()\n",
    "Image('./carbon/bulk1.png')"
   ]
  },
  {
   "cell_type": "code",
   "execution_count": null,
   "id": "quarterly-chapter",
   "metadata": {},
   "outputs": [],
   "source": [
    "bpy.ops.wm.read_factory_settings(use_empty=True)"
   ]
  },
  {
   "cell_type": "code",
   "execution_count": null,
   "id": "minor-clinton",
   "metadata": {},
   "outputs": [],
   "source": [
    "view(frames[-3])"
   ]
  },
  {
   "cell_type": "code",
   "execution_count": null,
   "id": "frozen-wisconsin",
   "metadata": {},
   "outputs": [],
   "source": [
    "atoms = frames[-3]\n",
    "\n",
    "supat = make_supercell(atoms, np.diag([1,1,1]), wrap=True, tol=1e-5)\n",
    "# view(supat)\n",
    "com = supat.get_center_of_mass()\n",
    "camera_loc = com + [0,0, 30]\n",
    "camera_target = com+[-0,-0, 0]\n",
    "kwargs = {'show_unit_cell': 0,\n",
    "          'engine': 'CYCLES',# 'CYCLES', #'BLENDER_EEVEE' #'BLENDER_WORKBENCH'\n",
    "          'camera_loc': camera_loc,  # distance from camera to front atom\n",
    "          'camera_type': 'PERSP',  #  ['PERSP', 'ORTHO', 'PANO']\n",
    "          'camera_lens': 100,  #\n",
    "          'camera_target': camera_target, #\n",
    "          'ortho_scale': None, #\n",
    "          'radii': 1.,\n",
    "          'bond_cutoff': 1.0,\n",
    "          'light_loc': com + [-5, -5, 10],\n",
    "          'light_type': 'SUN', # 'POINT', 'SUN', 'SPOT', 'AREA'\n",
    "          'point_lights': [],  #\n",
    "          'light_strength': 25,\n",
    "          'gpu': False,\n",
    "          'run_render': True,\n",
    "          'display': True,\n",
    "          'material_style':'ceramic', # ceramic, plastic, glass, blase, mirror\n",
    "          #'functions': [['draw_plane', {'size': 1000, \n",
    "          #                              'location': (0, 0, -1.0)}]],\n",
    "          'resolution_x': 2000,\n",
    "          'num_samples': 30,\n",
    "          'use_denoising': True,\n",
    "          # 'functions': [['draw_plane', {'size': 100, 'location': (0, 0, -0.0), 'color': (0.1, 0.1, 0.1, 1.0), 'material_style': 'mirror'}]],\n",
    "          'outfile': './carbon/ball.png',\n",
    "}\n",
    "\n",
    "bobj = Blase(supat, **kwargs)\n",
    "\n",
    "bobj.draw(bonds=False)\n",
    "for function in bobj.functions:\n",
    "    name, paras = function\n",
    "    getattr(bobj, name)(**paras)\n",
    "bobj.render()\n",
    "Image('./carbon/ball.png')"
   ]
  },
  {
   "cell_type": "code",
   "execution_count": null,
   "id": "everyday-compression",
   "metadata": {},
   "outputs": [],
   "source": [
    "bpy.ops.wm.read_factory_settings(use_empty=True)"
   ]
  },
  {
   "cell_type": "code",
   "execution_count": null,
   "id": "temporal-little",
   "metadata": {},
   "outputs": [],
   "source": [
    "view(frames[0])"
   ]
  },
  {
   "cell_type": "code",
   "execution_count": null,
   "id": "cathedral-guyana",
   "metadata": {},
   "outputs": [],
   "source": [
    "atoms = frames[0]\n",
    "\n",
    "supat = make_supercell(atoms, np.diag([3,3,3]), wrap=True, tol=1e-5)\n",
    "# view(supat)\n",
    "com = supat.get_center_of_mass()\n",
    "camera_loc = com + [0,0, 30]\n",
    "camera_target = com+[-0,-0, 0]\n",
    "kwargs = {'show_unit_cell': 0,\n",
    "          'engine': 'CYCLES',# 'CYCLES', #'BLENDER_EEVEE' #'BLENDER_WORKBENCH'\n",
    "          'camera_loc': camera_loc,  # distance from camera to front atom\n",
    "          'camera_type': 'ORTHO',  #  ['PERSP', 'ORTHO', 'PANO']\n",
    "          'camera_lens': 100,  #\n",
    "          'camera_target': camera_target, #\n",
    "          'ortho_scale': None, #\n",
    "          'radii': 1.,\n",
    "          'bond_cutoff': 1.0,\n",
    "          'light_loc': com + [-5, -5, 15],\n",
    "          'light_type': 'SUN', # 'POINT', 'SUN', 'SPOT', 'AREA'\n",
    "          'point_lights': [],  #\n",
    "          'light_strength': 25,\n",
    "          'gpu': False,\n",
    "          'run_render': True,\n",
    "          'display': True,\n",
    "          'material_style':'ceramic', # ceramic, plastic, glass, blase, mirror\n",
    "          #'functions': [['draw_plane', {'size': 1000, \n",
    "          #                              'location': (0, 0, -1.0)}]],\n",
    "          'resolution_x': 2000,\n",
    "          'num_samples': 30,\n",
    "          'use_denoising': True,\n",
    "          # 'functions': [['draw_plane', {'size': 100, 'location': (0, 0, -0.0), 'color': (0.1, 0.1, 0.1, 1.0), 'material_style': 'mirror'}]],\n",
    "          'outfile': './carbon/bulk2.png',\n",
    "}\n",
    "\n",
    "bobj = Blase(supat, **kwargs)\n",
    "\n",
    "bobj.draw(bonds=False)\n",
    "for function in bobj.functions:\n",
    "    name, paras = function\n",
    "    getattr(bobj, name)(**paras)\n",
    "bobj.render()\n",
    "Image('./carbon/bulk2.png')"
   ]
  },
  {
   "cell_type": "code",
   "execution_count": null,
   "id": "ahead-scoop",
   "metadata": {},
   "outputs": [],
   "source": [
    "bpy.ops.wm.read_factory_settings(use_empty=True)"
   ]
  },
  {
   "cell_type": "code",
   "execution_count": null,
   "id": "atmospheric-analysis",
   "metadata": {},
   "outputs": [],
   "source": [
    "view(frames[2])"
   ]
  },
  {
   "cell_type": "code",
   "execution_count": null,
   "id": "neutral-question",
   "metadata": {},
   "outputs": [],
   "source": [
    "atoms = frames[1]\n",
    "\n",
    "supat = make_supercell(atoms, np.diag([3,3,3]), wrap=True, tol=1e-5)\n",
    "# view(supat)\n",
    "com = supat.get_center_of_mass()\n",
    "camera_loc = com + [0,0, 40]\n",
    "camera_target = com+[-0,-0, 0]\n",
    "kwargs = {'show_unit_cell': 0,\n",
    "          'engine': 'CYCLES',# 'CYCLES', #'BLENDER_EEVEE' #'BLENDER_WORKBENCH'\n",
    "          'camera_loc': camera_loc,  # distance from camera to front atom\n",
    "          'camera_type': 'ORTHO',  #  ['PERSP', 'ORTHO', 'PANO']\n",
    "          'camera_lens': 100,  #\n",
    "          'camera_target': camera_target, #\n",
    "          'ortho_scale': None, #\n",
    "          'radii': 1.,\n",
    "          'bond_cutoff': 1.0,\n",
    "          'light_loc': com + [-5, -5, 15],\n",
    "          'light_type': 'SUN', # 'POINT', 'SUN', 'SPOT', 'AREA'\n",
    "          'point_lights': [],  #\n",
    "          'light_strength': 25,\n",
    "          'gpu': False,\n",
    "          'run_render': True,\n",
    "          'display': True,\n",
    "          'material_style':'ceramic', # ceramic, plastic, glass, blase, mirror\n",
    "          #'functions': [['draw_plane', {'size': 1000, \n",
    "          #                              'location': (0, 0, -1.0)}]],\n",
    "          'resolution_x': 2000,\n",
    "          'num_samples': 30,\n",
    "          'use_denoising': True,\n",
    "          # 'functions': [['draw_plane', {'size': 100, 'location': (0, 0, -0.0), 'color': (0.1, 0.1, 0.1, 1.0), 'material_style': 'mirror'}]],\n",
    "          'outfile': './carbon/bulk3.png',\n",
    "}\n",
    "\n",
    "bobj = Blase(supat, **kwargs)\n",
    "\n",
    "bobj.draw(bonds=False)\n",
    "for function in bobj.functions:\n",
    "    name, paras = function\n",
    "    getattr(bobj, name)(**paras)\n",
    "bobj.render()\n",
    "Image('./carbon/bulk3.png')"
   ]
  },
  {
   "cell_type": "code",
   "execution_count": null,
   "id": "nominated-horror",
   "metadata": {},
   "outputs": [],
   "source": []
  },
  {
   "cell_type": "code",
   "execution_count": null,
   "id": "revised-armstrong",
   "metadata": {},
   "outputs": [],
   "source": []
  },
  {
   "cell_type": "code",
   "execution_count": null,
   "id": "horizontal-postcard",
   "metadata": {},
   "outputs": [],
   "source": [
    "atoms = molecule('C2H6SO')\n",
    "atoms.center(vacuum  = 1.0)\n",
    "com = atoms.get_center_of_mass()\n",
    "camera_loc = atoms.get_center_of_mass() + [-12, 0, 12]\n",
    "camera_target = com\n",
    "kwargs = {'show_unit_cell': 0,\n",
    "          'engine': 'CYCLES',# 'CYCLES', #'BLENDER_EEVEE' #'BLENDER_WORKBENCH'\n",
    "          'camera_loc': camera_loc,  # distance from camera to front atom\n",
    "          'camera_type': 'PERSP',  #  ['PERSP', 'ORTHO', 'PANO']\n",
    "          'camera_lens': 100,  #\n",
    "          'camera_target': camera_target, #\n",
    "          'ortho_scale': None, #\n",
    "          'radii': 1.,\n",
    "          'bond_cutoff': 1.0,\n",
    "          'light_loc': com+ [0, 0, 10],\n",
    "          'light_type': 'SUN', # 'POINT', 'SUN', 'SPOT', 'AREA'\n",
    "          'point_lights': [],  #\n",
    "          'light_strength': 30,\n",
    "          'material_style':'ceramic', # ceramic, plastic, glass, blase, mirror\n",
    "          'gpu': False,\n",
    "          'run_render': True,\n",
    "          'display': True,\n",
    "          #'functions': [['draw_plane', {'size': 1000, \n",
    "            #                            'location': (0, 0, -1.0)}]],\n",
    "          'resolution_x': 1000,\n",
    "          'num_samples': 50,\n",
    "          'use_denoising': True,\n",
    "          'functions': [['draw_plane', \n",
    "                         {'size': 100, 'location': (0, 0, -0.0), \n",
    "                          'color': (0.1, 0.1, 0.1, 1.0), \n",
    "                          'material_style': 'ceramic'}]],\n",
    "          'outfile': 'c2h6so.png',\n",
    "}\n",
    "\n",
    "bobj = Blase(atoms, **kwargs)\n",
    "\n",
    "bobj.draw(bonds=False)\n",
    "for function in bobj.functions:\n",
    "    name, paras = function\n",
    "    getattr(bobj, name)(**paras)\n",
    "bobj.render()\n",
    "Image('c2h6so.png')"
   ]
  },
  {
   "cell_type": "code",
   "execution_count": null,
   "id": "baking-series",
   "metadata": {},
   "outputs": [],
   "source": [
    "Image('bout.png')"
   ]
  },
  {
   "cell_type": "code",
   "execution_count": null,
   "id": "floral-arizona",
   "metadata": {},
   "outputs": [],
   "source": []
  }
 ],
 "metadata": {
  "kernelspec": {
   "display_name": "blender",
   "language": "python",
   "name": "blender"
  },
  "language_info": {
   "codemirror_mode": {
    "name": "ipython",
    "version": 3
   },
   "file_extension": ".py",
   "mimetype": "text/x-python",
   "name": "python",
   "nbconvert_exporter": "python",
   "pygments_lexer": "ipython3",
   "version": "3.7.7"
  }
 },
 "nbformat": 4,
 "nbformat_minor": 5
}
